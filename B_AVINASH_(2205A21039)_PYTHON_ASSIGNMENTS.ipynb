{
  "cells": [
    {
      "cell_type": "markdown",
      "metadata": {
        "id": "view-in-github",
        "colab_type": "text"
      },
      "source": [
        "<a href=\"https://colab.research.google.com/github/Avinash21039/python/blob/main/B_AVINASH_(2205A21039)_PYTHON_ASSIGNMENTS.ipynb\" target=\"_parent\"><img src=\"https://colab.research.google.com/assets/colab-badge.svg\" alt=\"Open In Colab\"/></a>"
      ]
    },
    {
      "cell_type": "code",
      "execution_count": 1,
      "metadata": {
        "colab": {
          "base_uri": "https://localhost:8080/"
        },
        "id": "4IPhLpLJvTMR",
        "outputId": "ae78e8bd-37e6-483a-a659-8acc27ee1b51"
      },
      "outputs": [
        {
          "output_type": "stream",
          "name": "stdout",
          "text": [
            "Transformer A:\n",
            "  Load Factor: 1, Efficiency: 84.75%\n",
            "  Load Factor: 0.75, Efficiency: 87.21%\n",
            "  Load Factor: 0.5, Efficiency: 89.29%\n",
            "  Load Factor: 0.25, Efficiency: 89.29%\n",
            "  Maximum Efficiency Load Factor: 0.35, Efficiency: 89.84%\n",
            "\n",
            "Transformer B:\n",
            "  Load Factor: 1, Efficiency: 94.06%\n",
            "  Load Factor: 0.75, Efficiency: 94.92%\n",
            "  Load Factor: 0.5, Efficiency: 95.48%\n",
            "  Load Factor: 0.25, Efficiency: 94.76%\n",
            "  Maximum Efficiency Load Factor: 0.45, Efficiency: 95.50%\n",
            "\n",
            "Transformer C:\n",
            "  Load Factor: 1, Efficiency: 54.55%\n",
            "  Load Factor: 0.75, Efficiency: 55.96%\n",
            "  Load Factor: 0.5, Efficiency: 54.55%\n",
            "  Load Factor: 0.25, Efficiency: 44.44%\n",
            "  Maximum Efficiency Load Factor: 0.71, Efficiency: 56.00%\n",
            "\n"
          ]
        }
      ],
      "source": [
        "import math\n",
        "\n",
        "class Transformer:\n",
        "    def __init__(self, type, rating, core_losses, full_load_copper_losses, power_factor):\n",
        "        self.type = type\n",
        "        self.rating = rating\n",
        "        self.core_losses = core_losses\n",
        "        self.full_load_copper_losses = full_load_copper_losses\n",
        "        self.power_factor = power_factor\n",
        "\n",
        "    def calculate_efficiency(self, load_factor):\n",
        "        output_power = self.rating * self.power_factor * load_factor\n",
        "        total_losses = self.core_losses + (load_factor ** 2) * self.full_load_copper_losses\n",
        "        efficiency = (output_power / (output_power + total_losses)) * 100\n",
        "        return efficiency\n",
        "\n",
        "    def max_efficiency_load(self):\n",
        "        optimal_load = math.sqrt(self.core_losses / self.full_load_copper_losses)\n",
        "        return optimal_load\n",
        "\n",
        "# Transformer details from Tabela 1\n",
        "transformers = [\n",
        "    Transformer(\"A\", 5000, 100, 800, 1),  # 5KVA Transformer A\n",
        "    Transformer(\"B\", 10000000, 100000, 500000, 0.95),  # 10MVA Transformer B\n",
        "    Transformer(\"C\", 100, 25, 50, 0.9)  # 100VA Transformer C\n",
        "]\n",
        "\n",
        "# Calculate and display results for each transformer\n",
        "for transformer in transformers:\n",
        "    print(f\"Transformer {transformer.type}:\")\n",
        "    for load_factor in [1, 0.75, 0.5, 0.25]:\n",
        "        efficiency = transformer.calculate_efficiency(load_factor)\n",
        "        print(f\"  Load Factor: {load_factor}, Efficiency: {efficiency:.2f}%\")\n",
        "\n",
        "    max_efficiency_load = transformer.max_efficiency_load()\n",
        "    max_efficiency = transformer.calculate_efficiency(max_efficiency_load)\n",
        "    print(f\"  Maximum Efficiency Load Factor: {max_efficiency_load:.2f}, Efficiency: {max_efficiency:.2f}%\\n\")\n"
      ]
    }
  ],
  "metadata": {
    "colab": {
      "provenance": [],
      "authorship_tag": "ABX9TyP0J8b3XOGwihAU5ZQuYB1u",
      "include_colab_link": true
    },
    "kernelspec": {
      "display_name": "Python 3",
      "name": "python3"
    },
    "language_info": {
      "name": "python"
    }
  },
  "nbformat": 4,
  "nbformat_minor": 0
}