{
  "nbformat": 4,
  "nbformat_minor": 0,
  "metadata": {
    "colab": {
      "provenance": [],
      "authorship_tag": "ABX9TyM0XokutPmb3UzvBBuQtLIp",
      "include_colab_link": true
    },
    "kernelspec": {
      "name": "python3",
      "display_name": "Python 3"
    },
    "language_info": {
      "name": "python"
    }
  },
  "cells": [
    {
      "cell_type": "markdown",
      "metadata": {
        "id": "view-in-github",
        "colab_type": "text"
      },
      "source": [
        "<a href=\"https://colab.research.google.com/github/Avinash21039/python/blob/main/Untitled5.ipynb\" target=\"_parent\"><img src=\"https://colab.research.google.com/assets/colab-badge.svg\" alt=\"Open In Colab\"/></a>"
      ]
    },
    {
      "cell_type": "code",
      "execution_count": 10,
      "metadata": {
        "colab": {
          "base_uri": "https://localhost:8080/"
        },
        "id": "gt_wh4g_iSDU",
        "outputId": "37900ddb-44f5-4be8-cb65-34fc75e0b74b"
      },
      "outputs": [
        {
          "output_type": "stream",
          "name": "stdout",
          "text": [
            "Current date and time: 2024-09-23 11:16:42.873588\n",
            "enter the pu units:7184\n",
            "enter the cu units:7184\n",
            "enter the customer type: 0;res 1;com 2;adv1\n",
            "------------------------------------------------\n",
            "TGNPDCL\n",
            "Formatted date and time: 2024-09-23 11:16:42\n",
            "------------------------------------------------\n",
            "present units= 7184\n",
            "previous units= 7184\n",
            "units consumed= 0\n",
            "energy charges= 0\n",
            "fixed charges= 60\n",
            "customer charges= 50\n",
            "electricity duty charges= 0.0\n",
            "bill_amount= 100.0\n",
            "------------------------------------------------\n"
          ]
        }
      ],
      "source": [
        "import datetime\n",
        "import module\n",
        "now = datetime.datetime.now()\n",
        "print(\"Current date and time:\", now)\n",
        "formatted_now = now.strftime(\"%Y-%m-%d %H:%M:%S\")\n",
        "\n",
        "pu=int(input(\"enter the pu units:\"))\n",
        "cu=int(input(\"enter the cu units:\"))\n",
        "u=cu-pu\n",
        "customer=int(input(\"enter the customer type: 0;res 1;com 2;adv\"))\n",
        "if(customer==0):\n",
        "  [ec,fc,cc,ed,bill_amount]=module.res(pu,cu)\n",
        "if(customer==1):\n",
        "  [ec,fc,cc,ed,bill_amount]=module.com(pu,cu)\n",
        "if(customer==2):\n",
        "  [ec,fc,cc,ed,bill_amount]=module.adv(pu,cu)\n",
        "print(\"------------------------------------------------\")\n",
        "print(\"TGNPDCL\")\n",
        "print(\"Formatted date and time:\",formatted_now)\n",
        "print(\"------------------------------------------------\")\n",
        "print(\"present units=\",cu)\n",
        "print(\"previous units=\",pu)\n",
        "print(\"units consumed=\",u)\n",
        "print(\"energy charges=\",ec)\n",
        "print(\"fixed charges=\",fc)\n",
        "print(\"customer charges=\",cc)\n",
        "print(\"electricity duty charges=\",ed)\n",
        "print(\"bill_amount=\",bill_amount-101)\n",
        "print(\"------------------------------------------------\")"
      ]
    },
    {
      "cell_type": "code",
      "source": [],
      "metadata": {
        "id": "kn_1irCRmH2J"
      },
      "execution_count": null,
      "outputs": []
    }
  ]
}