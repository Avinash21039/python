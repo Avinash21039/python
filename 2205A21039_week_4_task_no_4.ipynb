{
  "nbformat": 4,
  "nbformat_minor": 0,
  "metadata": {
    "colab": {
      "provenance": [],
      "authorship_tag": "ABX9TyNW1r5fwN5He/1xyoUcSDQa",
      "include_colab_link": true
    },
    "kernelspec": {
      "name": "python3",
      "display_name": "Python 3"
    },
    "language_info": {
      "name": "python"
    }
  },
  "cells": [
    {
      "cell_type": "markdown",
      "metadata": {
        "id": "view-in-github",
        "colab_type": "text"
      },
      "source": [
        "<a href=\"https://colab.research.google.com/github/Avinash21039/python/blob/main/2205A21039_week_4_task_no_4.ipynb\" target=\"_parent\"><img src=\"https://colab.research.google.com/assets/colab-badge.svg\" alt=\"Open In Colab\"/></a>"
      ]
    },
    {
      "cell_type": "code",
      "execution_count": null,
      "metadata": {
        "id": "o40_oZHBKwKf",
        "colab": {
          "base_uri": "https://localhost:8080/"
        },
        "outputId": "6e02b6ef-363f-4159-eb98-4a184cb599f8"
      },
      "outputs": [
        {
          "output_type": "stream",
          "name": "stdout",
          "text": [
            "Enter the previous units71830\n",
            "Enter the current units7144\n",
            "Enter the type of customer0\n",
            "Enter date and time2154\n",
            "TGNPDCL\n",
            "DATE & TIME:   2154\n",
            "Present_KWH: XXXX\n",
            "Previous_KWH: XXXX\n",
            "Units consumed:  -64686.0\n",
            "Energy charges:  -126137.7\n",
            "Fixed charges:  10\n",
            "Customer charges:  40\n",
            "Electricity Duty charges:  -3881.16\n",
            "Units consumed:  -64686.0\n",
            "Bill amount:  -129968.86\n"
          ]
        }
      ],
      "source": [
        "Previous_units = float(input(\"Enter the previous units\"))\n",
        "Current_units = float(input(\"Enter the current units\"))\n",
        "Type_of_customer = int(input(\"Enter the type of customer\"))\n",
        "DATE = input(\"Enter date and time\")\n",
        "count = 0\n",
        "\n",
        "Units = Current_units - Previous_units\n",
        "Electricity_Duty_charges = 0.06 * Units\n",
        "\n",
        "if (Type_of_customer == 0):\n",
        "  if (Units <= 100):\n",
        "    if (Units <= 50):\n",
        "      Energy_charges = 1.95*Units\n",
        "      Fixed_charges = 10\n",
        "      Customer_charges = 40\n",
        "    else:\n",
        "      Energy_charges = 3.10 * Units\n",
        "      Fixed_charges = 10\n",
        "      Customer_charges = 70\n",
        "  else:\n",
        "    if (Units > 100 and Units <= 200):\n",
        "      Energy_charges = 3.4 * 100 + (Units - 100) * 4.8\n",
        "      Fixed_charges = 10\n",
        "      Customer_charges = 90\n",
        "    else:\n",
        "      print(\"Application not supported\")\n",
        "      count = count + 1\n",
        "if (Type_of_customer == 1):\n",
        "  if (Units <= 50):\n",
        "    Energy_charges = 7 * Units\n",
        "    Fixed_charges = 60\n",
        "    Customer_charges = 50\n",
        "  else:\n",
        "    print(\"Application not supported\")\n",
        "    count = count + 1\n",
        "if (Type_of_customer == 2):\n",
        "  Energy_charges = 13 * Units\n",
        "  Fixed_charges = 70\n",
        "  Customer_charges = 160\n",
        "\n",
        "Bill_amount = Energy_charges + Fixed_charges + Customer_charges + Electricity_Duty_charges\n",
        "\n",
        "if (count == 0):\n",
        "  print(\"TGNPDCL\")\n",
        "  print(\"DATE & TIME:  \",DATE)\n",
        "  print(\"Present_KWH: XXXX\")\n",
        "  print(\"Previous_KWH: XXXX\")\n",
        "  print(\"Units consumed: \",Units)\n",
        "  print(\"Energy charges: \",Energy_charges)\n",
        "  print(\"Fixed charges: \",Fixed_charges)\n",
        "  print(\"Customer charges: \",Customer_charges)\n",
        "  print(\"Electricity Duty charges: \",Electricity_Duty_charges)\n",
        "  print(\"Units consumed: \",Units)\n",
        "  print(\"Bill amount: \",Bill_amount)"
      ]
    }
  ]
}