{
  "nbformat": 4,
  "nbformat_minor": 0,
  "metadata": {
    "colab": {
      "provenance": [],
      "authorship_tag": "ABX9TyOH3BAaqCc3hQh3k+9/j1GY",
      "include_colab_link": true
    },
    "kernelspec": {
      "name": "python3",
      "display_name": "Python 3"
    },
    "language_info": {
      "name": "python"
    }
  },
  "cells": [
    {
      "cell_type": "markdown",
      "metadata": {
        "id": "view-in-github",
        "colab_type": "text"
      },
      "source": [
        "<a href=\"https://colab.research.google.com/github/Avinash21039/python/blob/main/transformer.ipynb\" target=\"_parent\"><img src=\"https://colab.research.google.com/assets/colab-badge.svg\" alt=\"Open In Colab\"/></a>"
      ]
    },
    {
      "cell_type": "code",
      "source": [
        "def oc(vo,io,wo):\n",
        "  import math\n",
        "  npf=wo/(vo*io)\n",
        "  iw=io*npf\n",
        "  imv=io*math.sqrt(1-npf**2)\n",
        "  ro=vo/iw\n",
        "  xo=vo/imv\n",
        "  return ro,xo"
      ],
      "metadata": {
        "id": "JEUi7nnIOPKm"
      },
      "execution_count": 33,
      "outputs": []
    },
    {
      "cell_type": "code",
      "source": [
        "def sc(vsc,isc,wsc):\n",
        "  import math\n",
        "  rhv=wsc/(isc**2)\n",
        "  zhv=vsc/isc\n",
        "  xhv=vsc/math.sqrt(1-rhv**2)\n",
        "  return rhv,xhv"
      ],
      "metadata": {
        "id": "IBc0pHhgOPQZ"
      },
      "execution_count": 34,
      "outputs": []
    },
    {
      "cell_type": "code",
      "source": [
        "def eff(r,wo,wsc,x,pf):\n",
        "  efficiency=(x*r*pf*100)/(x*r*pf+wo+(x**2)*wsc)\n",
        "  xcu=wsc*(x**2)\n",
        "  return efficiency,xcu"
      ],
      "metadata": {
        "id": "mevYlP1mOXhl"
      },
      "execution_count": 35,
      "outputs": []
    }
  ]
}