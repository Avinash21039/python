{
  "nbformat": 4,
  "nbformat_minor": 0,
  "metadata": {
    "colab": {
      "provenance": [],
      "authorship_tag": "ABX9TyOW6h1DfKFa0I961sKaUttx",
      "include_colab_link": true
    },
    "kernelspec": {
      "name": "python3",
      "display_name": "Python 3"
    },
    "language_info": {
      "name": "python"
    }
  },
  "cells": [
    {
      "cell_type": "markdown",
      "metadata": {
        "id": "view-in-github",
        "colab_type": "text"
      },
      "source": [
        "<a href=\"https://colab.research.google.com/github/Avinash21039/python/blob/main/2205a201039_A3.ipynb\" target=\"_parent\"><img src=\"https://colab.research.google.com/assets/colab-badge.svg\" alt=\"Open In Colab\"/></a>"
      ]
    },
    {
      "cell_type": "code",
      "source": [
        "import transformer\n",
        "\n",
        "Rating  = float(input(\"Enter the rating of the transformer:\"))\n",
        "Primary_voltage = float(input(\"Enter the Primary Voltage of the transformer:\"))\n",
        "Secondary_voltage = float(input(\"Enter the Secondary Voltage of the transformer:\"))\n",
        "vo=float(input(\"Enter the OC test voltage in volts:\"))\n",
        "io = float(input(\"Enter the OC test current in amps:\"))\n",
        "wo= float(input(\"Enter the OC test power in watts:\"))\n",
        "vsc = float(input(\"Enter the SC test voltage in volts:\"))\n",
        "isc = float(input(\"Enter the SC test current in amps:\"))\n",
        "wsc = float(input(\"Enter the SC test power in watts:\"))\n",
        "Pf = float(input(\"Enter the powerfactor of the transformer:\"))\n",
        "x = float(input(\"Enter the loading of the transformer in watts:\"))\n",
        "[ro,xo]=transformer.oc(vo,io,wo)\n",
        "[rsc,xsc]=transformer.sc(vsc,isc,wsc)\n",
        "[efficiency,copper]=transformer.eff(Rating,wo,wsc,Pf,x)\n",
        "print(\"efficiency=\",efficiency)\n",
        "print(\"RO=\",ro)\n",
        "print(\"XO=\",xo)\n",
        "print(\"RO1=\",rsc)\n",
        "print(\"XO1=\",xsc)\n",
        "print(\"xcu=\",xcu)\n",
        "\n",
        "\n"
      ],
      "metadata": {
        "colab": {
          "base_uri": "https://localhost:8080/",
          "height": 523
        },
        "collapsed": true,
        "id": "4T38lrgPT51c",
        "outputId": "23a2b1f9-df36-4942-8ced-28d7bf7cdcc5"
      },
      "execution_count": 31,
      "outputs": [
        {
          "name": "stdout",
          "output_type": "stream",
          "text": [
            "Enter the rating of the transformer:5000\n",
            "Enter the Primary Voltage of the transformer:220\n",
            "Enter the Secondary Voltage of the transformer:440\n",
            "Enter the OC test voltage in volts:220\n",
            "Enter the OC test current in amps:2\n",
            "Enter the OC test power in watts:250\n",
            "Enter the SC test voltage in volts:75\n",
            "Enter the SC test current in amps:10\n",
            "Enter the SC test power in watts:500\n",
            "Enter the powerfactor of the transformer:1\n",
            "Enter the loading of the transformer in watts:1\n"
          ]
        },
        {
          "output_type": "error",
          "ename": "ValueError",
          "evalue": "math domain error",
          "traceback": [
            "\u001b[0;31m---------------------------------------------------------------------------\u001b[0m",
            "\u001b[0;31mValueError\u001b[0m                                Traceback (most recent call last)",
            "\u001b[0;32m<ipython-input-31-1f1a08d79b6b>\u001b[0m in \u001b[0;36m<cell line: 15>\u001b[0;34m()\u001b[0m\n\u001b[1;32m     13\u001b[0m \u001b[0mx\u001b[0m \u001b[0;34m=\u001b[0m \u001b[0mfloat\u001b[0m\u001b[0;34m(\u001b[0m\u001b[0minput\u001b[0m\u001b[0;34m(\u001b[0m\u001b[0;34m\"Enter the loading of the transformer in watts:\"\u001b[0m\u001b[0;34m)\u001b[0m\u001b[0;34m)\u001b[0m\u001b[0;34m\u001b[0m\u001b[0;34m\u001b[0m\u001b[0m\n\u001b[1;32m     14\u001b[0m \u001b[0;34m[\u001b[0m\u001b[0mro\u001b[0m\u001b[0;34m,\u001b[0m\u001b[0mxo\u001b[0m\u001b[0;34m]\u001b[0m\u001b[0;34m=\u001b[0m\u001b[0mtransformer\u001b[0m\u001b[0;34m.\u001b[0m\u001b[0moc\u001b[0m\u001b[0;34m(\u001b[0m\u001b[0mvo\u001b[0m\u001b[0;34m,\u001b[0m\u001b[0mio\u001b[0m\u001b[0;34m,\u001b[0m\u001b[0mwo\u001b[0m\u001b[0;34m)\u001b[0m\u001b[0;34m\u001b[0m\u001b[0;34m\u001b[0m\u001b[0m\n\u001b[0;32m---> 15\u001b[0;31m \u001b[0;34m[\u001b[0m\u001b[0mrsc\u001b[0m\u001b[0;34m,\u001b[0m\u001b[0mxsc\u001b[0m\u001b[0;34m]\u001b[0m\u001b[0;34m=\u001b[0m\u001b[0mtransformer\u001b[0m\u001b[0;34m.\u001b[0m\u001b[0msc\u001b[0m\u001b[0;34m(\u001b[0m\u001b[0mvsc\u001b[0m\u001b[0;34m,\u001b[0m\u001b[0misc\u001b[0m\u001b[0;34m,\u001b[0m\u001b[0mwsc\u001b[0m\u001b[0;34m)\u001b[0m\u001b[0;34m\u001b[0m\u001b[0;34m\u001b[0m\u001b[0m\n\u001b[0m\u001b[1;32m     16\u001b[0m \u001b[0;34m[\u001b[0m\u001b[0mefficiency\u001b[0m\u001b[0;34m,\u001b[0m\u001b[0mcopper\u001b[0m\u001b[0;34m]\u001b[0m\u001b[0;34m=\u001b[0m\u001b[0mtransformer\u001b[0m\u001b[0;34m.\u001b[0m\u001b[0meff\u001b[0m\u001b[0;34m(\u001b[0m\u001b[0mRating\u001b[0m\u001b[0;34m,\u001b[0m\u001b[0mwo\u001b[0m\u001b[0;34m,\u001b[0m\u001b[0mwsc\u001b[0m\u001b[0;34m,\u001b[0m\u001b[0mPf\u001b[0m\u001b[0;34m,\u001b[0m\u001b[0mx\u001b[0m\u001b[0;34m)\u001b[0m\u001b[0;34m\u001b[0m\u001b[0;34m\u001b[0m\u001b[0m\n\u001b[1;32m     17\u001b[0m \u001b[0mprint\u001b[0m\u001b[0;34m(\u001b[0m\u001b[0;34m\"efficiency=\"\u001b[0m\u001b[0;34m,\u001b[0m\u001b[0mefficiency\u001b[0m\u001b[0;34m)\u001b[0m\u001b[0;34m\u001b[0m\u001b[0;34m\u001b[0m\u001b[0m\n",
            "\u001b[0;32m/content/transformer.py\u001b[0m in \u001b[0;36msc\u001b[0;34m(vsc, isc, wsc)\u001b[0m\n\u001b[1;32m     21\u001b[0m   \u001b[0mrhv\u001b[0m\u001b[0;34m=\u001b[0m\u001b[0mwsc\u001b[0m\u001b[0;34m/\u001b[0m\u001b[0;34m(\u001b[0m\u001b[0misc\u001b[0m\u001b[0;34m**\u001b[0m\u001b[0;36m2\u001b[0m\u001b[0;34m)\u001b[0m\u001b[0;34m\u001b[0m\u001b[0;34m\u001b[0m\u001b[0m\n\u001b[1;32m     22\u001b[0m   \u001b[0mzhv\u001b[0m\u001b[0;34m=\u001b[0m\u001b[0mvsc\u001b[0m\u001b[0;34m/\u001b[0m\u001b[0misc\u001b[0m\u001b[0;34m\u001b[0m\u001b[0;34m\u001b[0m\u001b[0m\n\u001b[0;32m---> 23\u001b[0;31m   \u001b[0mxhv\u001b[0m\u001b[0;34m=\u001b[0m\u001b[0mvsc\u001b[0m\u001b[0;34m/\u001b[0m\u001b[0mmath\u001b[0m\u001b[0;34m.\u001b[0m\u001b[0msqrt\u001b[0m\u001b[0;34m(\u001b[0m\u001b[0;36m1\u001b[0m\u001b[0;34m-\u001b[0m\u001b[0mrhv\u001b[0m\u001b[0;34m**\u001b[0m\u001b[0;36m2\u001b[0m\u001b[0;34m)\u001b[0m\u001b[0;34m\u001b[0m\u001b[0;34m\u001b[0m\u001b[0m\n\u001b[0m\u001b[1;32m     24\u001b[0m   \u001b[0;32mreturn\u001b[0m \u001b[0mrhv\u001b[0m\u001b[0;34m,\u001b[0m\u001b[0mxhv\u001b[0m\u001b[0;34m\u001b[0m\u001b[0;34m\u001b[0m\u001b[0m\n\u001b[1;32m     25\u001b[0m \u001b[0;34m\u001b[0m\u001b[0m\n",
            "\u001b[0;31mValueError\u001b[0m: math domain error"
          ]
        }
      ]
    }
  ]
}